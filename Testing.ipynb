{
 "cells": [
  {
   "cell_type": "code",
   "execution_count": 69,
   "metadata": {},
   "outputs": [],
   "source": [
    "import os\n",
    "import re\n",
    "import datetime\n",
    "\n",
    "import numpy as np\n",
    "import pandas as pd\n",
    "\n",
    "pd.options.mode.chained_assignment = None\n",
    "\n",
    "from sklearn.base import BaseEstimator, TransformerMixin\n",
    "from sklearn.pipeline import Pipeline\n",
    "\n",
    "from sklearn.model_selection import train_test_split\n",
    "from sklearn.metrics import accuracy_score, confusion_matrix\n",
    "from sklearn.utils import shuffle\n",
    "from sklearn.model_selection import GridSearchCV\n",
    "from sklearn.svm import SVC\n",
    "\n",
    "from sklearn.tree import DecisionTreeClassifier\n",
    "from sklearn.ensemble import RandomForestClassifier\n",
    "from sklearn.neighbors import KNeighborsClassifier\n",
    "from sklearn.linear_model import LogisticRegression\n",
    "from sklearn.linear_model import SGDClassifier\n",
    "\n",
    "from sklearn.preprocessing import MinMaxScaler\n",
    "\n",
    "from sklearn.metrics import precision_score, recall_score, f1_score\n",
    "from sklearn.externals import joblib\n",
    "import pickle\n",
    "\n",
    "import seaborn as sns\n",
    "import matplotlib.pyplot as plt\n",
    "%matplotlib inline"
   ]
  },
  {
   "cell_type": "code",
   "execution_count": 171,
   "metadata": {},
   "outputs": [],
   "source": [
    "data = pd.read_csv('out.csv', nrows=500000)"
   ]
  },
  {
   "cell_type": "code",
   "execution_count": 21,
   "metadata": {},
   "outputs": [
    {
     "data": {
      "text/html": [
       "<div>\n",
       "<style scoped>\n",
       "    .dataframe tbody tr th:only-of-type {\n",
       "        vertical-align: middle;\n",
       "    }\n",
       "\n",
       "    .dataframe tbody tr th {\n",
       "        vertical-align: top;\n",
       "    }\n",
       "\n",
       "    .dataframe thead th {\n",
       "        text-align: right;\n",
       "    }\n",
       "</style>\n",
       "<table border=\"1\" class=\"dataframe\">\n",
       "  <thead>\n",
       "    <tr style=\"text-align: right;\">\n",
       "      <th></th>\n",
       "      <th>key</th>\n",
       "      <th>is_purchase</th>\n",
       "      <th>status</th>\n",
       "      <th>company</th>\n",
       "      <th>premium</th>\n",
       "      <th>sum</th>\n",
       "      <th>action_type</th>\n",
       "      <th>is_partner</th>\n",
       "      <th>created_at</th>\n",
       "      <th>init_from</th>\n",
       "      <th>...</th>\n",
       "      <th>place</th>\n",
       "      <th>is_foreigner</th>\n",
       "      <th>sports</th>\n",
       "      <th>adult</th>\n",
       "      <th>child</th>\n",
       "      <th>ip</th>\n",
       "      <th>referer</th>\n",
       "      <th>user_agent</th>\n",
       "      <th>timezone</th>\n",
       "      <th>is_adblock_enabled</th>\n",
       "    </tr>\n",
       "  </thead>\n",
       "  <tbody>\n",
       "    <tr>\n",
       "      <th>0</th>\n",
       "      <td>4601</td>\n",
       "      <td>True</td>\n",
       "      <td>SENT</td>\n",
       "      <td>RES</td>\n",
       "      <td>417.6</td>\n",
       "      <td>300000.0</td>\n",
       "      <td>ALWAYS</td>\n",
       "      <td>False</td>\n",
       "      <td>1559590087</td>\n",
       "      <td>2019-06-09</td>\n",
       "      <td>...</td>\n",
       "      <td>NaN</td>\n",
       "      <td>False</td>\n",
       "      <td>SHESTOVAYA-AKROBATIKA--POLDENS-POLE-DANCE-PILON-</td>\n",
       "      <td>1</td>\n",
       "      <td>0</td>\n",
       "      <td>213.87.128.216</td>\n",
       "      <td>https://prosto.insure/sportivnaja-strakhovka/s...</td>\n",
       "      <td>Mozilla/5.0 (Linux; Android 8.0.0; VTR-L29) Ap...</td>\n",
       "      <td>180.0</td>\n",
       "      <td>False</td>\n",
       "    </tr>\n",
       "    <tr>\n",
       "      <th>1</th>\n",
       "      <td>4601</td>\n",
       "      <td>True</td>\n",
       "      <td>CALCULATE</td>\n",
       "      <td>RES</td>\n",
       "      <td>417.6</td>\n",
       "      <td>300000.0</td>\n",
       "      <td>ALWAYS</td>\n",
       "      <td>False</td>\n",
       "      <td>1559589752</td>\n",
       "      <td>2019-06-09</td>\n",
       "      <td>...</td>\n",
       "      <td>NaN</td>\n",
       "      <td>False</td>\n",
       "      <td>SHESTOVAYA-AKROBATIKA--POLDENS-POLE-DANCE-PILON-</td>\n",
       "      <td>1</td>\n",
       "      <td>0</td>\n",
       "      <td>213.87.128.216</td>\n",
       "      <td>https://prosto.insure/sportivnaja-strakhovka/s...</td>\n",
       "      <td>Mozilla/5.0 (Linux; Android 8.0.0; VTR-L29) Ap...</td>\n",
       "      <td>180.0</td>\n",
       "      <td>False</td>\n",
       "    </tr>\n",
       "    <tr>\n",
       "      <th>2</th>\n",
       "      <td>4601</td>\n",
       "      <td>True</td>\n",
       "      <td>CALCULATE</td>\n",
       "      <td>RES</td>\n",
       "      <td>417.6</td>\n",
       "      <td>300000.0</td>\n",
       "      <td>ALWAYS</td>\n",
       "      <td>False</td>\n",
       "      <td>1559589752</td>\n",
       "      <td>2019-06-09</td>\n",
       "      <td>...</td>\n",
       "      <td>NaN</td>\n",
       "      <td>False</td>\n",
       "      <td>SHESTOVAYA-AKROBATIKA--POLDENS-POLE-DANCE-PILON-</td>\n",
       "      <td>1</td>\n",
       "      <td>0</td>\n",
       "      <td>213.87.128.216</td>\n",
       "      <td>https://prosto.insure/sportivnaja-strakhovka/s...</td>\n",
       "      <td>Mozilla/5.0 (Linux; Android 8.0.0; VTR-L29) Ap...</td>\n",
       "      <td>180.0</td>\n",
       "      <td>False</td>\n",
       "    </tr>\n",
       "    <tr>\n",
       "      <th>3</th>\n",
       "      <td>4601</td>\n",
       "      <td>True</td>\n",
       "      <td>CALCULATE</td>\n",
       "      <td>VTB</td>\n",
       "      <td>874.0</td>\n",
       "      <td>300000.0</td>\n",
       "      <td>ALWAYS</td>\n",
       "      <td>False</td>\n",
       "      <td>1559589752</td>\n",
       "      <td>2019-06-09</td>\n",
       "      <td>...</td>\n",
       "      <td>NaN</td>\n",
       "      <td>False</td>\n",
       "      <td>SHESTOVAYA-AKROBATIKA--POLDENS-POLE-DANCE-PILON-</td>\n",
       "      <td>1</td>\n",
       "      <td>0</td>\n",
       "      <td>213.87.128.216</td>\n",
       "      <td>https://prosto.insure/sportivnaja-strakhovka/s...</td>\n",
       "      <td>Mozilla/5.0 (Linux; Android 8.0.0; VTR-L29) Ap...</td>\n",
       "      <td>180.0</td>\n",
       "      <td>False</td>\n",
       "    </tr>\n",
       "    <tr>\n",
       "      <th>4</th>\n",
       "      <td>4601</td>\n",
       "      <td>True</td>\n",
       "      <td>CALCULATE</td>\n",
       "      <td>ZET</td>\n",
       "      <td>810.0</td>\n",
       "      <td>300000.0</td>\n",
       "      <td>ALWAYS</td>\n",
       "      <td>False</td>\n",
       "      <td>1559589752</td>\n",
       "      <td>2019-06-09</td>\n",
       "      <td>...</td>\n",
       "      <td>NaN</td>\n",
       "      <td>False</td>\n",
       "      <td>SHESTOVAYA-AKROBATIKA--POLDENS-POLE-DANCE-PILON-</td>\n",
       "      <td>1</td>\n",
       "      <td>0</td>\n",
       "      <td>213.87.128.216</td>\n",
       "      <td>https://prosto.insure/sportivnaja-strakhovka/s...</td>\n",
       "      <td>Mozilla/5.0 (Linux; Android 8.0.0; VTR-L29) Ap...</td>\n",
       "      <td>180.0</td>\n",
       "      <td>False</td>\n",
       "    </tr>\n",
       "  </tbody>\n",
       "</table>\n",
       "<p>5 rows × 22 columns</p>\n",
       "</div>"
      ],
      "text/plain": [
       "    key  is_purchase     status company  premium       sum action_type  \\\n",
       "0  4601         True       SENT     RES    417.6  300000.0      ALWAYS   \n",
       "1  4601         True  CALCULATE     RES    417.6  300000.0      ALWAYS   \n",
       "2  4601         True  CALCULATE     RES    417.6  300000.0      ALWAYS   \n",
       "3  4601         True  CALCULATE     VTB    874.0  300000.0      ALWAYS   \n",
       "4  4601         True  CALCULATE     ZET    810.0  300000.0      ALWAYS   \n",
       "\n",
       "   is_partner  created_at   init_from        ...         place  is_foreigner  \\\n",
       "0       False  1559590087  2019-06-09        ...           NaN         False   \n",
       "1       False  1559589752  2019-06-09        ...           NaN         False   \n",
       "2       False  1559589752  2019-06-09        ...           NaN         False   \n",
       "3       False  1559589752  2019-06-09        ...           NaN         False   \n",
       "4       False  1559589752  2019-06-09        ...           NaN         False   \n",
       "\n",
       "                                             sports  adult child  \\\n",
       "0  SHESTOVAYA-AKROBATIKA--POLDENS-POLE-DANCE-PILON-      1     0   \n",
       "1  SHESTOVAYA-AKROBATIKA--POLDENS-POLE-DANCE-PILON-      1     0   \n",
       "2  SHESTOVAYA-AKROBATIKA--POLDENS-POLE-DANCE-PILON-      1     0   \n",
       "3  SHESTOVAYA-AKROBATIKA--POLDENS-POLE-DANCE-PILON-      1     0   \n",
       "4  SHESTOVAYA-AKROBATIKA--POLDENS-POLE-DANCE-PILON-      1     0   \n",
       "\n",
       "               ip                                            referer  \\\n",
       "0  213.87.128.216  https://prosto.insure/sportivnaja-strakhovka/s...   \n",
       "1  213.87.128.216  https://prosto.insure/sportivnaja-strakhovka/s...   \n",
       "2  213.87.128.216  https://prosto.insure/sportivnaja-strakhovka/s...   \n",
       "3  213.87.128.216  https://prosto.insure/sportivnaja-strakhovka/s...   \n",
       "4  213.87.128.216  https://prosto.insure/sportivnaja-strakhovka/s...   \n",
       "\n",
       "                                          user_agent timezone  \\\n",
       "0  Mozilla/5.0 (Linux; Android 8.0.0; VTR-L29) Ap...    180.0   \n",
       "1  Mozilla/5.0 (Linux; Android 8.0.0; VTR-L29) Ap...    180.0   \n",
       "2  Mozilla/5.0 (Linux; Android 8.0.0; VTR-L29) Ap...    180.0   \n",
       "3  Mozilla/5.0 (Linux; Android 8.0.0; VTR-L29) Ap...    180.0   \n",
       "4  Mozilla/5.0 (Linux; Android 8.0.0; VTR-L29) Ap...    180.0   \n",
       "\n",
       "  is_adblock_enabled  \n",
       "0              False  \n",
       "1              False  \n",
       "2              False  \n",
       "3              False  \n",
       "4              False  \n",
       "\n",
       "[5 rows x 22 columns]"
      ]
     },
     "execution_count": 21,
     "metadata": {},
     "output_type": "execute_result"
    }
   ],
   "source": [
    "data.head()"
   ]
  },
  {
   "cell_type": "code",
   "execution_count": null,
   "metadata": {},
   "outputs": [],
   "source": []
  },
  {
   "cell_type": "code",
   "execution_count": null,
   "metadata": {},
   "outputs": [],
   "source": []
  },
  {
   "cell_type": "code",
   "execution_count": null,
   "metadata": {},
   "outputs": [],
   "source": [
    "def correlation_plot(data):\n",
    "    \n",
    "    data = data.drop(['key', 'created_at', 'init_from', 'init_till', 'year', 'place', 'timezone', 'is_adblock_enabled', 'ip'], axis=1)\n",
    "    \n",
    "    sns.pairplot(data)"
   ]
  },
  {
   "cell_type": "code",
   "execution_count": 5,
   "metadata": {},
   "outputs": [
    {
     "data": {
      "image/png": "[encoded data removed]",
      "text/plain": [
       "<Figure size 1147.25x1080 with 42 Axes>"
      ]
     },
     "metadata": {
      "needs_background": "light"
     },
     "output_type": "display_data"
    }
   ],
   "source": [
    "plt = sns.pairplot(data, x_vars=['premium', 'sum', 'is_partner', 'is_foreigner', 'adult', 'child'],\n",
    "                        y_vars=['premium', 'sum', 'is_partner', 'is_foreigner', 'adult', 'child'], hue='is_purchase')"
   ]
  },
  {
   "cell_type": "code",
   "execution_count": null,
   "metadata": {},
   "outputs": [],
   "source": []
  },
  {
   "cell_type": "code",
   "execution_count": 11,
   "metadata": {},
   "outputs": [],
   "source": [
    "def plot_user_agents(data):\n",
    "    \n",
    "    data = data.drop_duplicates(['key']).reset_index(drop=True)\n",
    "    data['is_purchase'] = data['is_purchase'].map(lambda x: 1 if x == True else 0)\n",
    "    data['not_purchase'] = data['is_purchase'].map(lambda x: 0 if x == True else 1)\n",
    "    \n",
    "    data['user_agent'] = data['user_agent'].map(lambda agent: \\\n",
    "        'Android' if re.search('Android', str(agent)) else \\\n",
    "        'iPhone' if re.search('iPhone', str(agent)) else \\\n",
    "        'Macintosh' if re.search('Macintosh', str(agent)) else \\\n",
    "        'Windows' if re.search('Windows', str(agent)) else \\\n",
    "        'Others'\n",
    "    )\n",
    "    \n",
    "    data[data['is_purchase'] == 1].groupby('user_agent').agg('sum').plot(ax=axes[0] ,kind='bar', stacked=True, legend=None, color='g', title='Who buys more')\n",
    "    data.groupby('user_agent').agg('sum')[['is_purchase', 'not_purchase']].plot(ax=axes[1] ,kind='bar', stacked=True, title='Deeper Cut', )"
   ]
  },
  {
   "cell_type": "code",
   "execution_count": null,
   "metadata": {},
   "outputs": [],
   "source": []
  },
  {
   "cell_type": "code",
   "execution_count": 12,
   "metadata": {},
   "outputs": [
    {
     "data": {
      "image/png": "[encoded data removed]",
      "text/plain": [
       "<Figure size 936x360 with 2 Axes>"
      ]
     },
     "metadata": {
      "needs_background": "light"
     },
     "output_type": "display_data"
    }
   ],
   "source": [
    "fig, axes = plt.subplots(nrows=1, ncols=2, figsize=(13,5))\n",
    "plot_user_agents(data)"
   ]
  },
  {
   "cell_type": "code",
   "execution_count": null,
   "metadata": {},
   "outputs": [],
   "source": []
  },
  {
   "cell_type": "code",
   "execution_count": null,
   "metadata": {},
   "outputs": [],
   "source": [
    "def plot_days_and_hours(data):\n",
    "    pass"
   ]
  },
  {
   "cell_type": "code",
   "execution_count": null,
   "metadata": {},
   "outputs": [],
   "source": []
  },
  {
   "cell_type": "code",
   "execution_count": null,
   "metadata": {},
   "outputs": [],
   "source": []
  },
  {
   "cell_type": "markdown",
   "metadata": {},
   "source": [
    "## Creating a Masterpiece Pipeline"
   ]
  },
  {
   "cell_type": "code",
   "execution_count": 89,
   "metadata": {},
   "outputs": [],
   "source": [
    "class CompaniesTransformer(BaseEstimator, TransformerMixin):\n",
    "    \n",
    "    def fit(self, X, y=None):\n",
    "        return self\n",
    "    \n",
    "    def transform(self, X, y=None):\n",
    "        \n",
    "        data__companies = self._find_num_companies(X)\n",
    "        X = X.drop_duplicates(['key']).reset_index(drop=True)\n",
    "        X['Num_of_companies'] = data__companies\n",
    "        X.drop('key', axis=1, inplace=True)\n",
    "        \n",
    "        return X\n",
    "    \n",
    "    def _find_num_companies(self, data):\n",
    "        keys = data.key.unique()\n",
    "        data__companies = []\n",
    "         \n",
    "        for key in keys:\n",
    "            data__companies.append(\n",
    "                len(data[data['key'] == key].company.unique())\n",
    "            )\n",
    "            \n",
    "        return data__companies"
   ]
  },
  {
   "cell_type": "code",
   "execution_count": 90,
   "metadata": {},
   "outputs": [],
   "source": [
    "POSSIBLE_COLUMNS = np.load('sport_types.npy')"
   ]
  },
  {
   "cell_type": "code",
   "execution_count": 91,
   "metadata": {},
   "outputs": [],
   "source": [
    "class SportTransform(BaseEstimator, TransformerMixin):\n",
    "    \n",
    "    possible_columns = POSSIBLE_COLUMNS\n",
    "    \n",
    "    def fit(self, X, y=None):\n",
    "        \n",
    "        sports_dummies = pd.get_dummies(X['sports'], prefix='Sport')\n",
    "        self.possible_columns = np.concatenate([self.possible_columns, [dummy for dummy in sports_dummies if dummy not in self.possible_columns]])\n",
    "        \n",
    "        \"\"\"\n",
    "        with open('sport_types.pkl', 'w') as f:\n",
    "            pickle.dump(self.possible_columns, f)\n",
    "        \"\"\"\n",
    "        \n",
    "        np.save('sport_types.npy', self.possible_columns)\n",
    "        \n",
    "        return self\n",
    "    \n",
    "    def transform(self, X, y=None):\n",
    "        \n",
    "        sports_dummies = pd.get_dummies(X['sports'], prefix='Sport')\n",
    "        for column in self.possible_columns:\n",
    "            if column in sports_dummies.columns:\n",
    "                X[column] = sports_dummies[column]\n",
    "            else:\n",
    "                X[column] = np.zeros(X.shape[0], dtype=np.uint8)\n",
    "        \n",
    "        #X = pd.concat([X, sports_dummies], axis=1)\n",
    "        X.drop('sports', axis=1, inplace=True)\n",
    "        \n",
    "        return X"
   ]
  },
  {
   "cell_type": "code",
   "execution_count": 92,
   "metadata": {},
   "outputs": [],
   "source": [
    "class DurationTransform(BaseEstimator, TransformerMixin):\n",
    "    \n",
    "    def fit(self, X, y=None):\n",
    "        return self\n",
    "    \n",
    "    def transform(self, X, y=None):\n",
    "        \n",
    "        X['init_from__days'] = X['init_from'].map(lambda d: int(d.split('-')[2]))\n",
    "        X['init_from__month'] = X['init_from'].map(lambda w: int(w.split('-')[1]))\n",
    "        X['init_from__years'] = X['init_from'].map(lambda m: int(m.split('-')[0]))\n",
    "\n",
    "        X['init_till__days'] = X['init_till'].map(lambda d: int(d.split('-')[2]))\n",
    "        X['init_till__month'] = X['init_till'].map(lambda w: int(w.split('-')[1]))\n",
    "        X['init_till__years'] = X['init_till'].map(lambda m: int(m.split('-')[0]))\n",
    "        \n",
    "        X['Length'] = (X['init_till__days'] - X['init_from__days']) + \\\n",
    "                        (X['init_till__month'] - X['init_from__month']) * 30 + \\\n",
    "                            (X['init_till__years'] - X['init_from__years']) * 365 + 1\n",
    "        \n",
    "        X.drop(['init_from__days', 'init_from__month', \\\n",
    "                   'init_from__years', 'init_till__days', \\\n",
    "                   'init_till__month', 'init_till__years', \\\n",
    "                   'init_from', 'init_till'], axis=1, inplace=True)\n",
    "        \n",
    "        X['Short_term'] = X['Length'].map(lambda l: 1 if l < 7 else 0)\n",
    "        X['Middle_term'] = X['Length'].map(lambda l: 1 if 7 < l < 30  else 0)\n",
    "        X['Long_term'] = X['Length'].map(lambda l: 1 if 30 < l else 0)\n",
    "        \n",
    "        X.drop('Length', axis=1, inplace=True)\n",
    "        \n",
    "        return X"
   ]
  },
  {
   "cell_type": "code",
   "execution_count": 93,
   "metadata": {},
   "outputs": [],
   "source": [
    "class GroupTransformer(BaseEstimator, TransformerMixin):\n",
    "    \n",
    "    def fit(self, X, y=None):\n",
    "        return self\n",
    "    \n",
    "    def transform(self, X, y=None):\n",
    "        \n",
    "        X['Group_size'] = X['adult'] + X['child']\n",
    "        \n",
    "        X['Group_small'] = X['Group_size'].map(lambda x: 1 if x == 1 else 0)\n",
    "        X['Group_middle'] = X['Group_size'].map(lambda x: 1 if 1 < x < 5 else 0)\n",
    "        X['Group_large'] = X['Group_size'].map(lambda x: 1 if 10 < x else 0)\n",
    "        \n",
    "        X.drop(['Group_size', 'adult', 'child'], axis=1, inplace=True)\n",
    "        \n",
    "        return X"
   ]
  },
  {
   "cell_type": "code",
   "execution_count": 94,
   "metadata": {},
   "outputs": [],
   "source": [
    "\"\"\"\n",
    "Possible OSs:\n",
    "    - Android\n",
    "    - iPhone\n",
    "    - Macintosh\n",
    "    - Windows\n",
    "\"\"\"\n",
    "\n",
    "class UserAgentTransform(BaseEstimator, TransformerMixin):\n",
    "    \n",
    "    possible_columns = ['User_agent_Android', 'User_agent_Macintosh', \\\n",
    "                'User_agent_Others', 'User_agent_Windows', 'User_agent_iPhone']\n",
    "    \n",
    "    def fit(self, X, y=None):\n",
    "        \n",
    "        X['user_agent'] = X['user_agent'].map(lambda agent: \\\n",
    "            'Android' if re.search('Android', str(agent)) else \\\n",
    "            'iPhone' if re.search('iPhone', str(agent)) else \\\n",
    "            'Macintosh' if re.search('Macintosh', str(agent)) else \\\n",
    "            'Windows' if re.search('Windows', str(agent)) else \\\n",
    "            'Others'\n",
    "        )\n",
    "        \n",
    "        user_agent_dummies = pd.get_dummies(X['user_agent'], prefix='User_agent')\n",
    "        self.possible_columns = np.concatenate([self.possible_columns, [dummy for dummy in user_agent_dummies if dummy not in self.possible_columns]])\n",
    "        \n",
    "        \n",
    "        return self\n",
    "    \n",
    "    def transform(self, X, y=None):\n",
    "        \n",
    "        X['user_agent'] = X['user_agent'].map(lambda agent: \\\n",
    "            'Android' if re.search('Android', str(agent)) else \\\n",
    "            'iPhone' if re.search('iPhone', str(agent)) else \\\n",
    "            'Macintosh' if re.search('Macintosh', str(agent)) else \\\n",
    "            'Windows' if re.search('Windows', str(agent)) else \\\n",
    "            'Others'\n",
    "        )\n",
    "        \n",
    "        user_agent_dummies = pd.get_dummies(X['user_agent'], prefix='User_agent')\n",
    "        \n",
    "        for column in self.possible_columns:\n",
    "            if column in user_agent_dummies.columns:\n",
    "                X[column] = user_agent_dummies[column]\n",
    "            else:\n",
    "                X[column] = np.zeros(X.shape[0], dtype=np.uint8)\n",
    "        \n",
    "        #X = pd.concat([X, user_agent_dummies], axis=1)\n",
    "        X.drop('user_agent', axis=1, inplace=True)\n",
    "        \n",
    "        return X"
   ]
  },
  {
   "cell_type": "code",
   "execution_count": 95,
   "metadata": {},
   "outputs": [],
   "source": [
    "class DropingTransform(BaseEstimator, TransformerMixin):\n",
    "    \n",
    "    def fit(self, X, y=None):\n",
    "        return self\n",
    "    \n",
    "    def transform(self, X, y=None):\n",
    "        \n",
    "        X.drop(['status', 'company', 'year', \\\n",
    "                'place', 'timezone', 'ip', \\\n",
    "                'referer'], axis=1, inplace=True)\n",
    "        \n",
    "        return X"
   ]
  },
  {
   "cell_type": "code",
   "execution_count": 96,
   "metadata": {},
   "outputs": [],
   "source": [
    "class BinaryTransform(BaseEstimator, TransformerMixin):\n",
    "    \n",
    "    def fit(self, X, y=None):\n",
    "        return self\n",
    "    \n",
    "    def transform(self, X, y=None):\n",
    "        \n",
    "        X['is_foreigner'] = X['is_foreigner'].map(lambda x: 1 if x == True else 0)\n",
    "        X['is_adblock_enabled'] = X['is_adblock_enabled'].map(lambda x: 1 if x == True else 0)\n",
    "        X['action_type'] = X['action_type'].map(lambda x: 1 if x == True else 0)\n",
    "        X['is_partner'] = X['is_partner'].map(lambda x: 1 if x == True else 0)\n",
    "        #X['is_purchase'] = X['is_purchase'].map(lambda x: 1 if x == True else 0)\n",
    "        \n",
    "        return X"
   ]
  },
  {
   "cell_type": "code",
   "execution_count": 121,
   "metadata": {},
   "outputs": [],
   "source": [
    "class ScalerTransform(BaseEstimator, TransformerMixin):\n",
    "    \n",
    "    def fit(self, X, y=None):\n",
    "        return self\n",
    "    \n",
    "    def transform(self, X, y=None):\n",
    "        \n",
    "        scaler = MinMaxScaler()\n",
    "        X['premium'] = scaler.fit_transform(X['premium'].values.reshape(-1, 1))\n",
    "        X['sum'] = scaler.fit_transform(X['sum'].values.reshape(-1, 1))\n",
    "        return X"
   ]
  },
  {
   "cell_type": "code",
   "execution_count": 133,
   "metadata": {},
   "outputs": [],
   "source": [
    "class TimestampTransform(BaseEstimator, TransformerMixin):\n",
    "    \n",
    "    possible_hours = ['Hour_{}'.format(hour) for hour in list(range(0, 24))]\n",
    "    possible_days = ['Day_{}'.format(day) for day in list(range(0, 7))]\n",
    "\n",
    "    def fit(self, X, y=None):\n",
    "        return self\n",
    "    \n",
    "    def transform(self, X, y=None):\n",
    "        \n",
    "        X['created_at'] = X['created_at'].map(lambda stamp: datetime.datetime.fromtimestamp(stamp))\n",
    "        X['weekday'] = X['created_at'].map(lambda date: date.weekday())\n",
    "        X['hour'] = X['created_at'].map(lambda date: date.hour)\n",
    "        \n",
    "        weekday_dummies = pd.get_dummies(X['weekday'], prefix='Day')\n",
    "        hour_dummies = pd.get_dummies(X['hour'], prefix='Hour')\n",
    "\n",
    "        for day in possible_days:\n",
    "            if day in weekday_dummies.columns:\n",
    "                X[day] = weekday_dummies[day]\n",
    "            else:\n",
    "                X[day] = np.zeros(X.shape[0], dtype=np.uint8)\n",
    "\n",
    "        for hour in possible_hours:\n",
    "            if hour in hour_dummies.columns:\n",
    "                X[hour] = hour_dummies[hour]\n",
    "            else:\n",
    "                X[hour] = np.zeros(X.shape[0], dtype=np.uint8)\n",
    "                \n",
    "        X.drop('created_at', axis=1, inplace=True)\n",
    "\n",
    "        return X"
   ]
  },
  {
   "cell_type": "code",
   "execution_count": null,
   "metadata": {},
   "outputs": [],
   "source": []
  },
  {
   "cell_type": "code",
   "execution_count": null,
   "metadata": {},
   "outputs": [],
   "source": []
  },
  {
   "cell_type": "code",
   "execution_count": 142,
   "metadata": {},
   "outputs": [],
   "source": [
    "def split(data, train_size=0.8):\n",
    "    \n",
    "    y = data['is_purchase']\n",
    "    X = data.drop('is_purchase', axis=1)\n",
    "    \n",
    "    X_train, X_test, y_train, y_test = train_test_split(X, y, train_size=train_size)\n",
    "    \n",
    "    return (X_train, X_test, y_train, y_test)"
   ]
  },
  {
   "cell_type": "code",
   "execution_count": null,
   "metadata": {},
   "outputs": [],
   "source": []
  },
  {
   "cell_type": "code",
   "execution_count": 148,
   "metadata": {},
   "outputs": [],
   "source": [
    "def score(y_test, y_pred):\n",
    "    \n",
    "    print('Accuracy:', accuracy_score(y_test, y_pred))\n",
    "    print('Precision:', precision_score(y_test, y_pred))\n",
    "    print('Recall:', recall_score(y_test, y_pred))\n",
    "    print('F1 Score:', f1_score(y_test, y_pred))"
   ]
  },
  {
   "cell_type": "code",
   "execution_count": null,
   "metadata": {},
   "outputs": [],
   "source": []
  },
  {
   "cell_type": "code",
   "execution_count": 172,
   "metadata": {},
   "outputs": [],
   "source": [
    "pipeline = Pipeline([\n",
    "    ('companies', CompaniesTransformer()),\n",
    "    ('sports', SportTransform()),\n",
    "    ('duration', DurationTransform()),\n",
    "    ('group', GroupTransformer()),\n",
    "    ('user_agent', UserAgentTransform()),\n",
    "    ('binary', BinaryTransform()),\n",
    "    ('droping', DropingTransform()),\n",
    "    ('scaler', ScalerTransform()),\n",
    "    ('timestamp', TimestampTransform()),\n",
    "])"
   ]
  },
  {
   "cell_type": "code",
   "execution_count": null,
   "metadata": {},
   "outputs": [],
   "source": []
  },
  {
   "cell_type": "code",
   "execution_count": 173,
   "metadata": {},
   "outputs": [],
   "source": [
    "data = pipeline.transform(data)"
   ]
  },
  {
   "cell_type": "code",
   "execution_count": 177,
   "metadata": {},
   "outputs": [],
   "source": [
    "data = data.sample(frac=1).reset_index(drop=True)"
   ]
  },
  {
   "cell_type": "code",
   "execution_count": 178,
   "metadata": {},
   "outputs": [],
   "source": [
    "(X_train, X_test, y_train, y_test) = split(data)"
   ]
  },
  {
   "cell_type": "code",
   "execution_count": null,
   "metadata": {},
   "outputs": [],
   "source": []
  },
  {
   "cell_type": "markdown",
   "metadata": {},
   "source": [
    "## Implementing a Great Classifier"
   ]
  },
  {
   "cell_type": "code",
   "execution_count": 197,
   "metadata": {},
   "outputs": [
    {
     "data": {
      "text/plain": [
       "SGDClassifier(alpha=0.0001, average=False, class_weight=None,\n",
       "              early_stopping=False, epsilon=0.1, eta0=0.0, fit_intercept=True,\n",
       "              l1_ratio=0.15, learning_rate='optimal', loss='log', max_iter=1000,\n",
       "              n_iter_no_change=5, n_jobs=None, penalty='l2', power_t=0.5,\n",
       "              random_state=None, shuffle=True, tol=0.001,\n",
       "              validation_fraction=0.1, verbose=0, warm_start=False)"
      ]
     },
     "execution_count": 197,
     "metadata": {},
     "output_type": "execute_result"
    }
   ],
   "source": [
    "clf = SGDClassifier(loss='log'); clf.fit(X_train, y_train)"
   ]
  },
  {
   "cell_type": "code",
   "execution_count": 198,
   "metadata": {},
   "outputs": [],
   "source": [
    "y_pred = clf.predict(X_test)"
   ]
  },
  {
   "cell_type": "code",
   "execution_count": 200,
   "metadata": {},
   "outputs": [
    {
     "data": {
      "text/plain": [
       "array([[4.70569437e-01, 5.29430563e-01],\n",
       "       [3.15783004e-01, 6.84216996e-01],\n",
       "       [1.92461341e-01, 8.07538659e-01],\n",
       "       [1.15178684e-01, 8.84821316e-01],\n",
       "       [2.27825537e-03, 9.97721745e-01],\n",
       "       [1.80956748e-01, 8.19043252e-01],\n",
       "       [7.97551656e-04, 9.99202448e-01],\n",
       "       [1.01260057e-03, 9.98987399e-01],\n",
       "       [2.65417036e-01, 7.34582964e-01],\n",
       "       [1.85568071e-02, 9.81443193e-01]])"
      ]
     },
     "execution_count": 200,
     "metadata": {},
     "output_type": "execute_result"
    }
   ],
   "source": [
    "clf.predict_proba(X_test[y_pred == True])[:10]"
   ]
  }
 ],
 "metadata": {
  "kernelspec": {
   "display_name": "Python 3",
   "language": "python",
   "name": "python3"
  },
  "language_info": {
   "codemirror_mode": {
    "name": "ipython",
    "version": 3
   },
   "file_extension": ".py",
   "mimetype": "text/x-python",
   "name": "python",
   "nbconvert_exporter": "python",
   "pygments_lexer": "ipython3",
   "version": "3.6.6"
  }
 },
 "nbformat": 4,
 "nbformat_minor": 2
}
